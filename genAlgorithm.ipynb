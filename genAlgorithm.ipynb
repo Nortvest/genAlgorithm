{
 "cells": [
  {
   "cell_type": "code",
   "execution_count": 17,
   "id": "afd3c0ac",
   "metadata": {},
   "outputs": [],
   "source": [
    "import numpy as np\n",
    "import matplotlib.pyplot as plt"
   ]
  },
  {
   "cell_type": "code",
   "execution_count": 18,
   "id": "e2745c76",
   "metadata": {},
   "outputs": [],
   "source": [
    "epochs = 50\n",
    "quant_line = 100\n",
    "size_line = 100\n",
    "history = []"
   ]
  },
  {
   "cell_type": "code",
   "execution_count": 19,
   "id": "dbef9cdf",
   "metadata": {},
   "outputs": [],
   "source": [
    "start = np.random.randint(0, 2, (quant_line, size_line))\n",
    "end = np.zeros((quant_line, size_line))"
   ]
  },
  {
   "cell_type": "code",
   "execution_count": 20,
   "id": "cae4f413",
   "metadata": {},
   "outputs": [
    {
     "data": {
      "text/plain": [
       "4945"
      ]
     },
     "execution_count": 20,
     "metadata": {},
     "output_type": "execute_result"
    }
   ],
   "source": [
    "np.sum(start)"
   ]
  },
  {
   "cell_type": "code",
   "execution_count": 21,
   "id": "caf942a0",
   "metadata": {},
   "outputs": [
    {
     "data": {
      "text/plain": [
       "array([0, 1, 0, 1, 0])"
      ]
     },
     "execution_count": 21,
     "metadata": {},
     "output_type": "execute_result"
    }
   ],
   "source": [
    "np.random.randint(0, 2, (5, )) * np.random.randint(0, 2, (5 * 4, ))[::4]"
   ]
  },
  {
   "cell_type": "code",
   "execution_count": 22,
   "id": "bc725bae",
   "metadata": {},
   "outputs": [],
   "source": [
    "def grt_parent_index():\n",
    "    parent = np.random.choice(quant_line, 3, replace=False)\n",
    "    return parent[np.argmax(np.sum(start[parent], axis=1))]\n",
    "\n",
    "\n",
    "def mutation(kid):\n",
    "    if np.random.randint(100) == 34:\n",
    "        ind = np.random.randint(0, size_line)\n",
    "        kid[ind] = int(not kid[ind])\n",
    "\n",
    "\n",
    "def cross(first_parent_i, second_parent_i):\n",
    "    if np.random.randint(100) < 90:\n",
    "        slice_ = np.random.randint(1, size_line)\n",
    "        end[first_parent_i][:slice_], end[second_parent_i][:slice_] = start[second_parent_i][:slice_], start[first_parent_i][:slice_]\n",
    "        end[first_parent_i][slice_:], end[second_parent_i][slice_:] = start[first_parent_i][slice_:], start[second_parent_i][slice_:]\n",
    "        \n",
    "    mutation(end[first_parent_i])\n",
    "    mutation(end[second_parent_i])"
   ]
  },
  {
   "cell_type": "code",
   "execution_count": 23,
   "id": "48789570",
   "metadata": {},
   "outputs": [],
   "source": [
    "for _ in range(epochs):\n",
    "    for _ in range(quant_line):\n",
    "        cross(grt_parent_index(), grt_parent_index())\n",
    "    start = end.copy()\n",
    "    history.append(np.sum(start))"
   ]
  },
  {
   "cell_type": "code",
   "execution_count": 24,
   "id": "95be98cd",
   "metadata": {},
   "outputs": [
    {
     "data": {
      "text/plain": [
       "[<matplotlib.lines.Line2D at 0x20f92525790>]"
      ]
     },
     "execution_count": 24,
     "metadata": {},
     "output_type": "execute_result"
    },
    {
     "data": {
      "image/png": "[encoded data removed]",
      "text/plain": [
       "<Figure size 432x288 with 1 Axes>"
      ]
     },
     "metadata": {
      "needs_background": "light"
     },
     "output_type": "display_data"
    }
   ],
   "source": [
    "plt.plot(history)"
   ]
  },
  {
   "cell_type": "code",
   "execution_count": 25,
   "id": "a5b112b5",
   "metadata": {},
   "outputs": [
    {
     "data": {
      "text/plain": [
       "6132.0"
      ]
     },
     "execution_count": 25,
     "metadata": {},
     "output_type": "execute_result"
    }
   ],
   "source": [
    "np.sum(start)"
   ]
  },
  {
   "cell_type": "code",
   "execution_count": null,
   "id": "528958e5",
   "metadata": {},
   "outputs": [],
   "source": []
  },
  {
   "cell_type": "code",
   "execution_count": null,
   "id": "eba422aa",
   "metadata": {},
   "outputs": [],
   "source": []
  }
 ],
 "metadata": {
  "kernelspec": {
   "display_name": "Python 3 (ipykernel)",
   "language": "python",
   "name": "python3"
  },
  "language_info": {
   "codemirror_mode": {
    "name": "ipython",
    "version": 3
   },
   "file_extension": ".py",
   "mimetype": "text/x-python",
   "name": "python",
   "nbconvert_exporter": "python",
   "pygments_lexer": "ipython3",
   "version": "3.9.12"
  }
 },
 "nbformat": 4,
 "nbformat_minor": 5
}
